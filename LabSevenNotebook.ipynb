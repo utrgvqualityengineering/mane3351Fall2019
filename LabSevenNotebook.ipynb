{
 "cells": [
  {
   "cell_type": "markdown",
   "metadata": {
    "hideCode": true
   },
   "source": [
    "# Laboratory Seven\n",
    "## Your Name\n"
   ]
  },
  {
   "cell_type": "code",
   "execution_count": 1,
   "metadata": {},
   "outputs": [
    {
     "name": "stdout",
     "output_type": "stream",
     "text": [
      "[[  3  -7  45  21]\n",
      " [ 12  11  10  17]\n",
      " [  6  25 -80 -24]\n",
      " [ 17  55  -9   7]]\n"
     ]
    }
   ],
   "source": [
    "# Cell 1\n",
    "# Python program to implement matrix inversion using Gauss-Jordan elimination\n",
    "# This assignment will not utilize subroutines\n",
    "import numpy as np\n",
    "\n",
    "# Steps 1- 4\n",
    "A=np.array([[3,-7,45,21],[12,11,10,17],[6,25,-80,-24],[17,55,-9,7]])\n",
    "print(A)\n",
    "\n",
    "# Step 5\n",
    "\n",
    "\n",
    "# Step 6\n",
    "\n",
    "\n",
    "# Step 7 print the inverse\n",
    "\n",
    "\n"
   ]
  },
  {
   "cell_type": "code",
   "execution_count": null,
   "metadata": {},
   "outputs": [],
   "source": [
    "# Cell 2\n",
    "# Invert A by using linalg.inv() function"
   ]
  },
  {
   "cell_type": "markdown",
   "metadata": {},
   "source": [
    "# Cell 3\n",
    "\n",
    "_Compare and contrast the results found in cells 1 and 2. Include in your discussion mathematical accuracy and ease of use_\n",
    "\n"
   ]
  }
 ],
 "metadata": {
  "kernelspec": {
   "display_name": "Python 3",
   "language": "python",
   "name": "python3"
  },
  "language_info": {
   "codemirror_mode": {
    "name": "ipython",
    "version": 3
   },
   "file_extension": ".py",
   "mimetype": "text/x-python",
   "name": "python",
   "nbconvert_exporter": "python",
   "pygments_lexer": "ipython3",
   "version": "3.7.3"
  }
 },
 "nbformat": 4,
 "nbformat_minor": 2
}
