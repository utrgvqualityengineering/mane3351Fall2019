{
 "cells": [
  {
   "cell_type": "markdown",
   "metadata": {
    "hideCode": true,
    "hideOutput": true,
    "hidePrompt": true
   },
   "source": [
    "#### Lecture 22, November 13\n",
    "\n"
   ]
  },
  {
   "cell_type": "code",
   "execution_count": 13,
   "metadata": {},
   "outputs": [
    {
     "name": "stdout",
     "output_type": "stream",
     "text": [
      "Matrix A\n",
      "[[4. 7.]\n",
      " [2. 6.]]\n",
      "dimension of A\n",
      "(2, 2)\n",
      "Transpose of A\n",
      "[[4. 2.]\n",
      " [7. 6.]]\n",
      "A inverse\n",
      "[[ 0.6 -0.7]\n",
      " [-0.2  0.4]]\n",
      "A-inverse times A\n",
      "[[1. 0.]\n",
      " [0. 1.]]\n"
     ]
    }
   ],
   "source": [
    "import numpy as np\n",
    "from scipy import linalg\n",
    "\n",
    "A=np.array([[4.0,7.0],[2.0,6.0]])\n",
    "#\n",
    "# print array\n",
    "print(\"Matrix A\")\n",
    "print(A)\n",
    "#\n",
    "# print dimensions of A\n",
    "print(\"dimension of A\")\n",
    "print(np.shape(A))\n",
    "#\n",
    "# print transpose of A\n",
    "print(\"Transpose of A\")\n",
    "B=A.T\n",
    "print(B)\n",
    "#\n",
    "# find A inverse\n",
    "A_inv=linalg.inv(A)\n",
    "print(\"A inverse\")\n",
    "print(A_inv)\n",
    "#\n",
    "# multiply A-inverse * A\n",
    "C=A @ A_inv\n",
    "print(\"A times A-inverse\")\n",
    "print(C)"
   ]
  },
  {
   "cell_type": "code",
   "execution_count": null,
   "metadata": {},
   "outputs": [],
   "source": []
  }
 ],
 "metadata": {
  "kernelspec": {
   "display_name": "Python 3",
   "language": "python",
   "name": "python3"
  },
  "language_info": {
   "codemirror_mode": {
    "name": "ipython",
    "version": 3
   },
   "file_extension": ".py",
   "mimetype": "text/x-python",
   "name": "python",
   "nbconvert_exporter": "python",
   "pygments_lexer": "ipython3",
   "version": "3.7.3"
  }
 },
 "nbformat": 4,
 "nbformat_minor": 2
}
