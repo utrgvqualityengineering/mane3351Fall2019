{
 "cells": [
  {
   "cell_type": "markdown",
   "metadata": {
    "hideCode": true,
    "hideOutput": true,
    "hidePrompt": true
   },
   "source": [
    "# Lecture 22, November 6\n",
    "\n"
   ]
  },
  {
   "cell_type": "code",
   "execution_count": 9,
   "metadata": {},
   "outputs": [
    {
     "name": "stdout",
     "output_type": "stream",
     "text": [
      "[2.0, 4.0, 6.0]\n"
     ]
    }
   ],
   "source": [
    "# Lecture 22, November 6\n",
    "# vector scalar multiplication\n",
    "def vector_multiplication(alpha,q):\n",
    "    zz=[]\n",
    "    for i in range(0,len(q)):\n",
    "        zz.append(alpha*q[i])\n",
    "    return zz\n",
    "\n",
    "x=[1.0,2.0,3.0]\n",
    "y=[3.0,2.0,1.0]\n",
    "z=[1.0, 2.0]\n",
    "\n",
    "print(vector_multiplication(2.0,x))"
   ]
  },
  {
   "cell_type": "code",
   "execution_count": 3,
   "metadata": {},
   "outputs": [
    {
     "name": "stdout",
     "output_type": "stream",
     "text": [
      "('conformable', [4.0, 4.0, 4.0])\n",
      "('not conformable', [])\n",
      "contents of xString: conformable\n",
      "[4.0, 4.0, 4.0]\n",
      "new stuff\n",
      "conformable\n",
      "[4.0, 4.0, 4.0]\n"
     ]
    }
   ],
   "source": [
    "# Lecture 22, November 6\n",
    "# Vector addition\n",
    "def vector_addition(p,q):\n",
    "    zz=[]\n",
    "    resultString=\"null\"\n",
    "    if (len(p)==len(q)):\n",
    "        resultString=\"conformable\"\n",
    "        for i in range(0,len(p)):\n",
    "            zz.append(p[i]+q[i])\n",
    "    else:\n",
    "        resultString=\"not conformable\"\n",
    "    return (resultString,zz)\n",
    "\n",
    "x=[1.0,2.0,3.0]\n",
    "y=[3.0,2.0,1.0]\n",
    "z=[1.0, 2.0]\n",
    "\n",
    "print(vector_addition(x,y))\n",
    "print(vector_addition(x,z))\n",
    "\n",
    "(xString,newVector)=vector_addition(x,y)\n",
    "print(\"contents of xString: {}\".format(xString))\n",
    "print(newVector)\n",
    "\n",
    "(outString,zz)=vector_addition(x,y)\n",
    "print(\"new stuff\")\n",
    "print(outString)\n",
    "print(zz)"
   ]
  },
  {
   "cell_type": "code",
   "execution_count": 25,
   "metadata": {},
   "outputs": [
    {
     "name": "stdout",
     "output_type": "stream",
     "text": [
      "[[1.0, 2.0, 3.0], [3.0, 4.0, 5.0]]\n",
      "number of rows is 2\n",
      "number of colums is 3\n"
     ]
    }
   ],
   "source": [
    "# Lecture 22, November 6\n",
    "# Matrix as two-dimenstional Array\n",
    "A=[[1.0,2.0,3.0],[3.0,4.0,5.0]]\n",
    "print(A)\n",
    "print(\"number of rows is {}\".format(len(A)))\n",
    "print(\"number of colums is {}\".format(len(A[0])))"
   ]
  },
  {
   "cell_type": "code",
   "execution_count": null,
   "metadata": {},
   "outputs": [],
   "source": []
  }
 ],
 "metadata": {
  "kernelspec": {
   "display_name": "Python 3",
   "language": "python",
   "name": "python3"
  },
  "language_info": {
   "codemirror_mode": {
    "name": "ipython",
    "version": 3
   },
   "file_extension": ".py",
   "mimetype": "text/x-python",
   "name": "python",
   "nbconvert_exporter": "python",
   "pygments_lexer": "ipython3",
   "version": "3.7.3"
  }
 },
 "nbformat": 4,
 "nbformat_minor": 2
}
