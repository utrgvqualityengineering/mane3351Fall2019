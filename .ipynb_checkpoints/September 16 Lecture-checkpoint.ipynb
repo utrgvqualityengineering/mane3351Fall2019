{
 "cells": [
  {
   "cell_type": "markdown",
   "metadata": {},
   "source": [
    "# September 16 Lecture\n",
    "\n"
   ]
  },
  {
   "cell_type": "code",
   "execution_count": 20,
   "metadata": {
    "scrolled": true
   },
   "outputs": [
    {
     "name": "stdout",
     "output_type": "stream",
     "text": [
      "Enter the value of x: -.375\n",
      "for x=-0.375, f(-0.375)=0.1038302333272762\n"
     ]
    }
   ],
   "source": [
    "from scipy import stats\n",
    "p=0.25\n",
    "\n",
    "x=float(input(\"Enter the value of x: \"))\n",
    "fx=stats.norm.cdf(x)-p\n",
    "\n",
    "print(\"for x={}, f({})={}\".format(x,x,fx))"
   ]
  },
  {
   "cell_type": "code",
   "execution_count": 21,
   "metadata": {},
   "outputs": [
    {
     "name": "stdout",
     "output_type": "stream",
     "text": [
      "0.25-th percentile=-0.6744897501960817\n"
     ]
    }
   ],
   "source": [
    "print(\"{}-th percentile={}\".format(p,stats.norm.ppf(p)))"
   ]
  },
  {
   "cell_type": "code",
   "execution_count": null,
   "metadata": {},
   "outputs": [],
   "source": []
  }
 ],
 "metadata": {
  "kernelspec": {
   "display_name": "Python 3",
   "language": "python",
   "name": "python3"
  },
  "language_info": {
   "codemirror_mode": {
    "name": "ipython",
    "version": 3
   },
   "file_extension": ".py",
   "mimetype": "text/x-python",
   "name": "python",
   "nbconvert_exporter": "python",
   "pygments_lexer": "ipython3",
   "version": "3.5.6"
  }
 },
 "nbformat": 4,
 "nbformat_minor": 2
}
