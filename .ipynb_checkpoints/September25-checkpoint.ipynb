{
 "cells": [
  {
   "cell_type": "markdown",
   "metadata": {},
   "source": [
    "##### September 25 Lecture\n",
    "\n"
   ]
  },
  {
   "cell_type": "code",
   "execution_count": 21,
   "metadata": {},
   "outputs": [
    {
     "data": {
      "image/png": "[encoded data removed]",
      "text/plain": [
       "<Figure size 432x288 with 1 Axes>"
      ]
     },
     "metadata": {
      "needs_background": "light"
     },
     "output_type": "display_data"
    }
   ],
   "source": [
    "import math\n",
    "import numpy as np\n",
    "import matplotlib.pyplot as plt\n",
    "#\n",
    "def f(x):\n",
    "    return (math.exp(x)+2**-x+2*math.cos(x)-6)\n",
    "# convert f(x) in a vectorized function that can be applied to array\n",
    "vec_f=np.vectorize(f)\n",
    "\n",
    "x=np.linspace(0,5,101)\n",
    "f_x=vec_f(x)\n",
    "\n",
    "\n",
    "fig, ax = plt.subplots()\n",
    "ax.plot(x,f_x)\n",
    "ax.axhline(y=0.0, color='r', linestyle='-')\n",
    "ax.set(xlabel='x', ylabel='f(x)',\n",
    "       title='New Function')\n",
    "plt.show()"
   ]
  },
  {
   "cell_type": "code",
   "execution_count": 1,
   "metadata": {},
   "outputs": [
    {
     "name": "stdout",
     "output_type": "stream",
     "text": [
      "the root is 1.829383602917972 with value 4.036380119032401e-09, required 6 steps\n",
      "completed\n"
     ]
    }
   ],
   "source": [
    "import math\n",
    "def f(x):\n",
    "    return (math.exp(x)+2**(-x)+2*math.cos(x)-6)\n",
    "def f_prime(x):\n",
    "    return(math.exp(x)-2.0**(-x)*math.log(2.0)-2*math.sin(x))\n",
    "N=100\n",
    "tol=0.0005\n",
    "x_0=3.5\n",
    "counter=0\n",
    "for j in range(N+1):\n",
    "    counter=counter+1\n",
    "    x=x_0-f(x_0)/f_prime(x_0)\n",
    "    if math.fabs(x-x_0)<tol:\n",
    "        print(\"the root is {} with value {}, required {} steps\".format(x,f(x),counter))\n",
    "        break\n",
    "    x_0=x\n",
    "print(\"completed\")"
   ]
  },
  {
   "cell_type": "code",
   "execution_count": null,
   "metadata": {},
   "outputs": [],
   "source": []
  }
 ],
 "metadata": {
  "kernelspec": {
   "display_name": "Python 3",
   "language": "python",
   "name": "python3"
  },
  "language_info": {
   "codemirror_mode": {
    "name": "ipython",
    "version": 3
   },
   "file_extension": ".py",
   "mimetype": "text/x-python",
   "name": "python",
   "nbconvert_exporter": "python",
   "pygments_lexer": "ipython3",
   "version": "3.7.3"
  }
 },
 "nbformat": 4,
 "nbformat_minor": 2
}
